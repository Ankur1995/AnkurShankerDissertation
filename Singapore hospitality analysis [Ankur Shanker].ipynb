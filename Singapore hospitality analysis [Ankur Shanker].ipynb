{
 "cells": [
  {
   "cell_type": "markdown",
   "metadata": {},
   "source": [
    "# Singapore hospitality analysis\n",
    "\n",
    "## Author: Ankur Shanker\n",
    "\n",
    "## Student ID: 21159916"
   ]
  },
  {
   "cell_type": "markdown",
   "metadata": {},
   "source": [
    "### **Section 1:** Importing packages necessary for workbook execution."
   ]
  },
  {
   "cell_type": "markdown",
   "metadata": {},
   "source": [
    "Libraries necessary for workbook execution related to functionality responsible for geo-spatial data reading, plotting, and statistical analysis need to be imported in order for this workbook to function."
   ]
  },
  {
   "cell_type": "code",
   "execution_count": 1,
   "metadata": {},
   "outputs": [],
   "source": [
    "# Import packages required for analysis\n",
    "import pandas as pd\n",
    "from sklearn.model_selection import train_test_split\n",
    "import rfpimp\n",
    "from sklearn import model_selection\n",
    "\n",
    "# Import packages required for numeric operations\n",
    "import numpy as np\n",
    "from statsmodels.stats.outliers_influence import variance_inflation_factor\n",
    "from statsmodels.tools.tools import add_constant\n",
    "import statsmodels.api as sm"
   ]
  },
  {
   "cell_type": "code",
   "execution_count": 2,
   "metadata": {},
   "outputs": [
    {
     "data": {
      "text/plain": [
       "'C:\\\\Users\\\\ankur\\\\AppData\\\\Roaming\\\\jupyterlab-desktop\\\\jlab_server\\\\Library\\\\share\\\\proj'"
      ]
     },
     "execution_count": 2,
     "metadata": {},
     "output_type": "execute_result"
    }
   ],
   "source": [
    "# Import packages required for geospatial analysis\n",
    "import geopandas as gpd\n",
    "import pyproj\n",
    "import geopy.distance\n",
    "pyproj.datadir.get_data_dir()"
   ]
  },
  {
   "cell_type": "code",
   "execution_count": 3,
   "metadata": {},
   "outputs": [],
   "source": [
    "# Import packages required for data visualisation\n",
    "import matplotlib.pyplot as plt\n",
    "import matplotlib.patches as mpatches\n",
    "import seaborn as sn\n",
    "sn.set_style(\"darkgrid\", {\"grid.color\": \".6\", \"grid.linestyle\": \":\"})"
   ]
  },
  {
   "cell_type": "code",
   "execution_count": 4,
   "metadata": {},
   "outputs": [],
   "source": [
    "from sklearn.tree import DecisionTreeRegressor\n",
    "from sklearn import tree"
   ]
  },
  {
   "cell_type": "markdown",
   "metadata": {},
   "source": [
    "### **Section 2:** Reading and formatting data"
   ]
  },
  {
   "cell_type": "markdown",
   "metadata": {},
   "source": [
    "Data related to the hospitality industry of Singapore (open source) is read in and interepreated below."
   ]
  },
  {
   "cell_type": "code",
   "execution_count": 5,
   "metadata": {},
   "outputs": [
    {
     "data": {
      "text/plain": [
       "Index(['Unnamed: 0', 'Name', 'Price', 'Closest distance to Marina Bay Sands',\n",
       "       'Closest distance to Resorts World Casino Sentosa', 'geometry',\n",
       "       'Traffic lights within 500 meters', 'Parking lots within 500 meters'],\n",
       "      dtype='object')"
      ]
     },
     "execution_count": 5,
     "metadata": {},
     "output_type": "execute_result"
    }
   ],
   "source": [
    "singapore_hotels = pd.read_csv('Data/Singapore data/Singapore hospitality.csv')\n",
    "singapore_hotels.columns"
   ]
  },
  {
   "cell_type": "code",
   "execution_count": 6,
   "metadata": {},
   "outputs": [],
   "source": [
    "singapore_hotels = singapore_hotels[['Price', 'Closest distance to Marina Bay Sands',\n",
    "       'Closest distance to Resorts World Casino Sentosa', 'geometry',\n",
    "       'Traffic lights within 500 meters', 'Parking lots within 500 meters']]"
   ]
  },
  {
   "cell_type": "markdown",
   "metadata": {},
   "source": [
    "### **Section 2:** Regression"
   ]
  },
  {
   "cell_type": "markdown",
   "metadata": {},
   "source": [
    "The final step of the analysis presented in this workbook involves determining the dependent and independent variables that will be utilised in the regression analysis. \n",
    "\n",
    "A process that will involve the consideration of Variance Inflation Factors and the nature of the distribution of each independent variable, in order to determine the exsitance or lack thereof a linear relationship.\n",
    "\n",
    "Frequency distribution histograms will also be produced for each indepdendent variable in order to check for the necessity of log transformations.\n",
    "\n",
    "If a Variance Inflation Factor score is determined to be excessive a variable is removed, likewise the existance of a non-normal frequency distribution will involve the utilisation of a log transformation for an independent variable.\n",
    "\n",
    "First the columns that exist within the dataframe that is created above can be highlighted as follows."
   ]
  },
  {
   "cell_type": "markdown",
   "metadata": {},
   "source": [
    "Following this, dependent and independent variables can be extracted."
   ]
  },
  {
   "cell_type": "code",
   "execution_count": 7,
   "metadata": {},
   "outputs": [],
   "source": [
    "independent_variables = singapore_hotels[['Closest distance to Resorts World Casino Sentosa', 'Parking lots within 500 meters' ,'Traffic lights within 500 meters']]\n",
    "dependent_variable = singapore_hotels['Price']"
   ]
  },
  {
   "cell_type": "markdown",
   "metadata": {},
   "source": [
    "A logarithmic version of each independent variable is added to the dataframe below."
   ]
  },
  {
   "cell_type": "code",
   "execution_count": 8,
   "metadata": {},
   "outputs": [],
   "source": [
    "singapore_hotels_copy = singapore_hotels"
   ]
  },
  {
   "cell_type": "code",
   "execution_count": 9,
   "metadata": {},
   "outputs": [
    {
     "name": "stdout",
     "output_type": "stream",
     "text": [
      "Index(['Price', 'Closest distance to Marina Bay Sands',\n",
      "       'Closest distance to Resorts World Casino Sentosa', 'geometry',\n",
      "       'Traffic lights within 500 meters', 'Parking lots within 500 meters',\n",
      "       'log Closest distance to Resorts World Casino Sentosa',\n",
      "       'log Parking lots within 500 meters',\n",
      "       'log Traffic lights within 500 meters'],\n",
      "      dtype='object')\n",
      "180\n"
     ]
    },
    {
     "name": "stderr",
     "output_type": "stream",
     "text": [
      "c:\\Users\\ankur\\AppData\\Roaming\\jupyterlab-desktop\\jlab_server\\lib\\site-packages\\pandas\\core\\arraylike.py:397: RuntimeWarning: divide by zero encountered in log\n",
      "  result = getattr(ufunc, method)(*inputs, **kwargs)\n",
      "c:\\Users\\ankur\\AppData\\Roaming\\jupyterlab-desktop\\jlab_server\\lib\\site-packages\\pandas\\core\\arraylike.py:397: RuntimeWarning: divide by zero encountered in log\n",
      "  result = getattr(ufunc, method)(*inputs, **kwargs)\n"
     ]
    }
   ],
   "source": [
    "for tag in independent_variables.columns:\n",
    "    if(tag != 'index'):\n",
    "        variable = singapore_hotels_copy[tag]\n",
    "        log_variable = np.log(variable)\n",
    "        newName = 'log '+ tag\n",
    "        singapore_hotels_copy[newName] = log_variable\n",
    "print(singapore_hotels_copy.columns)\n",
    "print(len(singapore_hotels_copy))"
   ]
  },
  {
   "cell_type": "markdown",
   "metadata": {},
   "source": [
    "A visual representation of the frequency distribution of values for each variable is highlighted below using the generate graph function."
   ]
  },
  {
   "cell_type": "code",
   "execution_count": 10,
   "metadata": {},
   "outputs": [],
   "source": [
    "def generateGraph(variable, variable_tag, counts):\n",
    "    try:\n",
    "        ax = plt.gca()\n",
    "        ax.hist(variable)\n",
    "        ax.set_xlabel(variable_tag)\n",
    "        ax.set_ylabel('Count')\n",
    "        ax.set_title(variable_tag+\" vs \"+ 'Count')\n",
    "        plt.show()\n",
    "    except:\n",
    "        print()"
   ]
  },
  {
   "cell_type": "code",
   "execution_count": 11,
   "metadata": {},
   "outputs": [
    {
     "data": {
      "image/png": "[encoded data removed]",
      "text/plain": [
       "<Figure size 432x288 with 1 Axes>"
      ]
     },
     "metadata": {},
     "output_type": "display_data"
    },
    {
     "data": {
      "image/png": "[encoded data removed]",
      "text/plain": [
       "<Figure size 432x288 with 1 Axes>"
      ]
     },
     "metadata": {},
     "output_type": "display_data"
    },
    {
     "data": {
      "image/png": "[encoded data removed]",
      "text/plain": [
       "<Figure size 432x288 with 1 Axes>"
      ]
     },
     "metadata": {},
     "output_type": "display_data"
    },
    {
     "name": "stdout",
     "output_type": "stream",
     "text": [
      "\n"
     ]
    },
    {
     "data": {
      "image/png": "[encoded data removed]",
      "text/plain": [
       "<Figure size 432x288 with 1 Axes>"
      ]
     },
     "metadata": {},
     "output_type": "display_data"
    },
    {
     "name": "stdout",
     "output_type": "stream",
     "text": [
      "\n"
     ]
    },
    {
     "data": {
      "image/png": "[encoded data removed]",
      "text/plain": [
       "<Figure size 432x288 with 1 Axes>"
      ]
     },
     "metadata": {},
     "output_type": "display_data"
    }
   ],
   "source": [
    "for tag in independent_variables.columns:\n",
    "    if(tag!='index'):\n",
    "        variable = singapore_hotels_copy[tag]\n",
    "        value_by_count = variable.value_counts().to_dict()\n",
    "        generateGraph(list(value_by_count.keys()), tag, list(value_by_count.values()))\n",
    "\n",
    "        log_tag = 'log '+ tag\n",
    "        log_variable = singapore_hotels_copy[log_tag]\n",
    "        value_by_count = log_variable.value_counts().to_dict()\n",
    "        generateGraph(list(value_by_count.keys()), log_tag, list(value_by_count.values()))"
   ]
  },
  {
   "cell_type": "markdown",
   "metadata": {},
   "source": [
    "As can be observed log transformations have no substantial impact on the frequency distribution histograms of the independent variables and are hence unnecesarry."
   ]
  },
  {
   "cell_type": "markdown",
   "metadata": {},
   "source": [
    "Columns can now be iteratively dropped based on their Variance Inflation Factor scores in order to prevent further regression analysis from being affected by multicolliearity."
   ]
  },
  {
   "cell_type": "markdown",
   "metadata": {},
   "source": [
    "The following function is from Quantitative Methods tutorial 4 (CASA0007).\n",
    "\n",
    "It calculates the VIF score of each independent variable and returns a dataframe containing independent variables that have a VIF score that is below 10\n",
    "\n",
    "Source: https://moodle.ucl.ac.uk/pluginfile.php/3532739/mod_resource/content/6/Practical_advanced_regression_UPDATED.ipynb"
   ]
  },
  {
   "cell_type": "code",
   "execution_count": 12,
   "metadata": {},
   "outputs": [],
   "source": [
    "def drop_column_using_vif_(df, thresh=10):\n",
    "    '''\n",
    "    Calculates VIF each feature in a pandas dataframe, and repeatedly drop the columns with the highest VIF.\n",
    "    A constant must be added to variance_inflation_factor or the results will be incorrect\n",
    "\n",
    "    :param df: the pandas dataframe containing only the predictor features, not the response variable\n",
    "    :param thresh: (default 5) the threshould VIF value. If the VIF of a variable is greater than thresh, it should be removed from the dataframe\n",
    "    :return: dataframe with multicollinear features removed\n",
    "    '''\n",
    "    while True:\n",
    "        # adding a constatnt item to the data\n",
    "        df_with_const = add_constant(df)\n",
    "\n",
    "        vif_df = pd.Series([variance_inflation_factor(df_with_const.values, i)\n",
    "                            for i in range(df_with_const.shape[1])],\n",
    "                           name=\"VIF\",\n",
    "                           index=df_with_const.columns).to_frame()\n",
    "\n",
    "        # drop the const\n",
    "        vif_df = vif_df.drop('const')\n",
    "\n",
    "        # if the largest VIF is above the thresh, remove a variable with the largest VIF\n",
    "        # If there are multiple variabels with VIF>thresh, only one of them is removed.\n",
    "        # This is because we want to keep as many variables as possible\n",
    "        if vif_df.VIF.max() > thresh:\n",
    "            # If there are multiple variables with the maximum VIF, choose the first one\n",
    "            index_to_drop = vif_df.index[vif_df.VIF == vif_df.VIF.max()].tolist()[0]\n",
    "            print('Dropping: {}'.format(index_to_drop))\n",
    "            df = df.drop(columns=index_to_drop)\n",
    "        else:\n",
    "            # No VIF is above threshold. Exit the loop\n",
    "            break\n",
    "\n",
    "    return df"
   ]
  },
  {
   "cell_type": "markdown",
   "metadata": {},
   "source": [
    "The utilisation of the above function removes the following variables from subsequent consideration in regression analysis."
   ]
  },
  {
   "cell_type": "code",
   "execution_count": 13,
   "metadata": {},
   "outputs": [],
   "source": [
    "independent_variables_vif = drop_column_using_vif_(independent_variables)"
   ]
  },
  {
   "cell_type": "markdown",
   "metadata": {},
   "source": [
    "Finally, ordinary least squares linear regression is performed."
   ]
  },
  {
   "cell_type": "code",
   "execution_count": 14,
   "metadata": {},
   "outputs": [
    {
     "data": {
      "text/html": [
       "<table class=\"simpletable\">\n",
       "<caption>OLS Regression Results</caption>\n",
       "<tr>\n",
       "  <th>Dep. Variable:</th>          <td>Price</td>      <th>  R-squared (uncentered):</th>      <td>   0.315</td>\n",
       "</tr>\n",
       "<tr>\n",
       "  <th>Model:</th>                   <td>OLS</td>       <th>  Adj. R-squared (uncentered):</th> <td>   0.304</td>\n",
       "</tr>\n",
       "<tr>\n",
       "  <th>Method:</th>             <td>Least Squares</td>  <th>  F-statistic:       </th>          <td>   27.17</td>\n",
       "</tr>\n",
       "<tr>\n",
       "  <th>Date:</th>             <td>Mon, 22 Aug 2022</td> <th>  Prob (F-statistic):</th>          <td>1.68e-14</td>\n",
       "</tr>\n",
       "<tr>\n",
       "  <th>Time:</th>                 <td>00:13:40</td>     <th>  Log-Likelihood:    </th>          <td> -1199.2</td>\n",
       "</tr>\n",
       "<tr>\n",
       "  <th>No. Observations:</th>      <td>   180</td>      <th>  AIC:               </th>          <td>   2404.</td>\n",
       "</tr>\n",
       "<tr>\n",
       "  <th>Df Residuals:</th>          <td>   177</td>      <th>  BIC:               </th>          <td>   2414.</td>\n",
       "</tr>\n",
       "<tr>\n",
       "  <th>Df Model:</th>              <td>     3</td>      <th>                     </th>              <td> </td>   \n",
       "</tr>\n",
       "<tr>\n",
       "  <th>Covariance Type:</th>      <td>nonrobust</td>    <th>                     </th>              <td> </td>   \n",
       "</tr>\n",
       "</table>\n",
       "<table class=\"simpletable\">\n",
       "<tr>\n",
       "                          <td></td>                            <th>coef</th>     <th>std err</th>      <th>t</th>      <th>P>|t|</th>  <th>[0.025</th>    <th>0.975]</th>  \n",
       "</tr>\n",
       "<tr>\n",
       "  <th>Closest distance to Resorts World Casino Sentosa</th> <td>    0.0196</td> <td>    0.004</td> <td>    5.253</td> <td> 0.000</td> <td>    0.012</td> <td>    0.027</td>\n",
       "</tr>\n",
       "<tr>\n",
       "  <th>Parking lots within 500 meters</th>                   <td>    0.0663</td> <td>    0.024</td> <td>    2.748</td> <td> 0.007</td> <td>    0.019</td> <td>    0.114</td>\n",
       "</tr>\n",
       "<tr>\n",
       "  <th>Traffic lights within 500 meters</th>                 <td>   21.5584</td> <td>   14.883</td> <td>    1.449</td> <td> 0.149</td> <td>   -7.812</td> <td>   50.929</td>\n",
       "</tr>\n",
       "</table>\n",
       "<table class=\"simpletable\">\n",
       "<tr>\n",
       "  <th>Omnibus:</th>       <td>112.878</td> <th>  Durbin-Watson:     </th> <td>   1.695</td> \n",
       "</tr>\n",
       "<tr>\n",
       "  <th>Prob(Omnibus):</th> <td> 0.000</td>  <th>  Jarque-Bera (JB):  </th> <td> 757.242</td> \n",
       "</tr>\n",
       "<tr>\n",
       "  <th>Skew:</th>          <td> 2.344</td>  <th>  Prob(JB):          </th> <td>3.69e-165</td>\n",
       "</tr>\n",
       "<tr>\n",
       "  <th>Kurtosis:</th>      <td>11.888</td>  <th>  Cond. No.          </th> <td>4.58e+03</td> \n",
       "</tr>\n",
       "</table><br/><br/>Notes:<br/>[1] R² is computed without centering (uncentered) since the model does not contain a constant.<br/>[2] Standard Errors assume that the covariance matrix of the errors is correctly specified.<br/>[3] The condition number is large, 4.58e+03. This might indicate that there are<br/>strong multicollinearity or other numerical problems."
      ],
      "text/plain": [
       "<class 'statsmodels.iolib.summary.Summary'>\n",
       "\"\"\"\n",
       "                                 OLS Regression Results                                \n",
       "=======================================================================================\n",
       "Dep. Variable:                  Price   R-squared (uncentered):                   0.315\n",
       "Model:                            OLS   Adj. R-squared (uncentered):              0.304\n",
       "Method:                 Least Squares   F-statistic:                              27.17\n",
       "Date:                Mon, 22 Aug 2022   Prob (F-statistic):                    1.68e-14\n",
       "Time:                        00:13:40   Log-Likelihood:                         -1199.2\n",
       "No. Observations:                 180   AIC:                                      2404.\n",
       "Df Residuals:                     177   BIC:                                      2414.\n",
       "Df Model:                           3                                                  \n",
       "Covariance Type:            nonrobust                                                  \n",
       "====================================================================================================================\n",
       "                                                       coef    std err          t      P>|t|      [0.025      0.975]\n",
       "--------------------------------------------------------------------------------------------------------------------\n",
       "Closest distance to Resorts World Casino Sentosa     0.0196      0.004      5.253      0.000       0.012       0.027\n",
       "Parking lots within 500 meters                       0.0663      0.024      2.748      0.007       0.019       0.114\n",
       "Traffic lights within 500 meters                    21.5584     14.883      1.449      0.149      -7.812      50.929\n",
       "==============================================================================\n",
       "Omnibus:                      112.878   Durbin-Watson:                   1.695\n",
       "Prob(Omnibus):                  0.000   Jarque-Bera (JB):              757.242\n",
       "Skew:                           2.344   Prob(JB):                    3.69e-165\n",
       "Kurtosis:                      11.888   Cond. No.                     4.58e+03\n",
       "==============================================================================\n",
       "\n",
       "Notes:\n",
       "[1] R² is computed without centering (uncentered) since the model does not contain a constant.\n",
       "[2] Standard Errors assume that the covariance matrix of the errors is correctly specified.\n",
       "[3] The condition number is large, 4.58e+03. This might indicate that there are\n",
       "strong multicollinearity or other numerical problems.\n",
       "\"\"\""
      ]
     },
     "execution_count": 14,
     "metadata": {},
     "output_type": "execute_result"
    }
   ],
   "source": [
    "stats = sm.OLS(endog=dependent_variable, exog=independent_variables_vif).fit()\n",
    "stats.summary()"
   ]
  }
 ],
 "metadata": {
  "kernelspec": {
   "display_name": "Python 3.8.13",
   "language": "python",
   "name": "python3"
  },
  "language_info": {
   "codemirror_mode": {
    "name": "ipython",
    "version": 3
   },
   "file_extension": ".py",
   "mimetype": "text/x-python",
   "name": "python",
   "nbconvert_exporter": "python",
   "pygments_lexer": "ipython3",
   "version": "3.8.13"
  },
  "orig_nbformat": 4,
  "vscode": {
   "interpreter": {
    "hash": "1c206323dcce234e979fb655b88db2f985279eebded104f4290a4ca32557e06c"
   }
  }
 },
 "nbformat": 4,
 "nbformat_minor": 2
}
